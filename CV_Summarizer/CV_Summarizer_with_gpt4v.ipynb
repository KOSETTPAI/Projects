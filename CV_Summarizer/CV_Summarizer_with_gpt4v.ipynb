{
  "nbformat": 4,
  "nbformat_minor": 0,
  "metadata": {
    "colab": {
      "provenance": []
    },
    "kernelspec": {
      "name": "python3",
      "display_name": "Python 3"
    },
    "language_info": {
      "name": "python"
    }
  },
  "cells": [
    {
      "cell_type": "code",
      "execution_count": 1,
      "metadata": {
        "id": "AGXp9vaILgR4"
      },
      "outputs": [],
      "source": [
        "api_key = \"OPENAI_API_KEY\""
      ]
    },
    {
      "cell_type": "code",
      "source": [
        "!apt-get install -y poppler-utils\n",
        "!pip install pdf2image"
      ],
      "metadata": {
        "colab": {
          "base_uri": "https://localhost:8080/"
        },
        "id": "QSFLzEbfL2Ma",
        "outputId": "aa897a3c-72d9-4fce-9a03-dd99764767fa"
      },
      "execution_count": 2,
      "outputs": [
        {
          "output_type": "stream",
          "name": "stdout",
          "text": [
            "Reading package lists... Done\n",
            "Building dependency tree... Done\n",
            "Reading state information... Done\n",
            "poppler-utils is already the newest version (22.02.0-2ubuntu0.4).\n",
            "0 upgraded, 0 newly installed, 0 to remove and 45 not upgraded.\n",
            "Requirement already satisfied: pdf2image in /usr/local/lib/python3.10/dist-packages (1.17.0)\n",
            "Requirement already satisfied: pillow in /usr/local/lib/python3.10/dist-packages (from pdf2image) (9.4.0)\n"
          ]
        }
      ]
    },
    {
      "cell_type": "code",
      "source": [
        "from pdf2image import convert_from_path\n",
        "import os\n",
        "import base64\n",
        "import requests\n",
        "from IPython.display import Markdown, display"
      ],
      "metadata": {
        "id": "7953WPZ6L2I8"
      },
      "execution_count": 3,
      "outputs": []
    },
    {
      "cell_type": "code",
      "source": [
        "def convert_pdf_to_images(pdf_file, output_folder):\n",
        "    pages = convert_from_path(pdf_file)\n",
        "\n",
        "    if not os.path.exists(output_folder):\n",
        "        os.makedirs(output_folder)\n",
        "\n",
        "    for i, page in enumerate(pages):\n",
        "        page.save(os.path.join(output_folder, f'page_{i}.jpg'), 'JPEG')\n",
        "\n",
        "    print(f\"Images saved in folder: {output_folder}\")\n",
        "\n",
        "def encode_image(image_path):\n",
        "    with open(image_path, \"rb\") as image_file:\n",
        "        return base64.b64encode(image_file.read()).decode('utf-8')"
      ],
      "metadata": {
        "id": "GfoULOsBLuTl"
      },
      "execution_count": 4,
      "outputs": []
    },
    {
      "cell_type": "code",
      "source": [
        "import os\n",
        "import requests\n",
        "\n",
        "def automate_process(pdf_file_path, api_key, output_folder):\n",
        "    output_folder = output_folder\n",
        "\n",
        "    convert_pdf_to_images(pdf_file_path, output_folder)\n",
        "\n",
        "    image_paths = [os.path.join(output_folder, f'page_{i}.jpg') for i in range(len(os.listdir(output_folder)))]\n",
        "    image_base64_list = [encode_image(image_path) for image_path in image_paths]\n",
        "\n",
        "    headers = {\n",
        "        \"Content-Type\": \"application/json\",\n",
        "        \"Authorization\": f\"Bearer {api_key}\"\n",
        "    }\n",
        "\n",
        "    for img in image_base64_list:\n",
        "        payload = {\n",
        "            \"model\": \"gpt-4o\",\n",
        "            \"messages\": [\n",
        "                {\n",
        "                    \"role\": \"user\",\n",
        "                    \"content\": [\n",
        "                        {\n",
        "                            \"type\": \"text\",\n",
        "                            \"text\": \"\"\"Please provide me summary of this candidate.\n",
        "                            I want to get with this order.\n",
        "                            1. Education\n",
        "                            2. Work Experiences\n",
        "                            3. Other relevant information that employer and HR need to know.\"\"\"\n",
        "                        },\n",
        "                        {\n",
        "                            \"type\": \"image_url\",\n",
        "                            \"image_url\": {\n",
        "                                \"url\": f\"data:image/jpeg;base64,{img}\"\n",
        "                            }\n",
        "                        }\n",
        "                    ]\n",
        "                }\n",
        "            ],\n",
        "            \"max_tokens\": 1000\n",
        "        }\n",
        "\n",
        "        response = requests.post(\"https://api.openai.com/v1/chat/completions\", headers=headers, json=payload)\n",
        "        return response.json()"
      ],
      "metadata": {
        "id": "6g415uz4Xeca"
      },
      "execution_count": 5,
      "outputs": []
    },
    {
      "cell_type": "code",
      "source": [
        "pdf_file_path = '/content/Resume.pdf'\n",
        "output_folder = '/content/output_images'\n",
        "output = automate_process(pdf_file_path, api_key, output_folder)"
      ],
      "metadata": {
        "colab": {
          "base_uri": "https://localhost:8080/"
        },
        "id": "CyBBERI-chtl",
        "outputId": "9dd61550-b25c-4fef-f27f-e3c03386572e"
      },
      "execution_count": 6,
      "outputs": [
        {
          "output_type": "stream",
          "name": "stdout",
          "text": [
            "Images saved in folder: /content/output_images\n"
          ]
        }
      ]
    },
    {
      "cell_type": "code",
      "source": [
        "content = output['choices'][0]['message']['content']\n",
        "\n",
        "display(Markdown(content))"
      ],
      "metadata": {
        "colab": {
          "base_uri": "https://localhost:8080/",
          "height": 719
        },
        "id": "GX7c3kSzLuRa",
        "outputId": "857c91fe-5e6d-4a82-844c-2c7fca6e4b94"
      },
      "execution_count": 7,
      "outputs": [
        {
          "output_type": "display_data",
          "data": {
            "text/plain": [
              "<IPython.core.display.Markdown object>"
            ],
            "text/markdown": "**Summary of Candidate:**\n\n1. **Education:**\n   - **The Pre-Collegiate Program of Yangon (PCP):** \n     - Duration: March 2023 – March 2024\n     - CGPA: 3.59\n     - Description: A 12-month intensive liberal arts program aimed at creating agents of change in Myanmar.\n     - Activities: Participated in discussion-based courses including gender studies, history, civic engagement, academic writing, environmental studies, psychology, and religious studies.\n   \n   - **Basic Education High School, Ahlone:**\n     - Duration: June 2008 - March 2018\n     - Matriculation Score: 402\n     - Roles: Chosen as one of the team leaders in the classroom every school year\n     - Activities: Participated in school activities such as gardening, cleaning, and organizing school events.\n\n2. **Work Experiences:**\n   - **Inya Economics, Volunteer:**\n     - Location: Yangon, Myanmar\n     - Duration: June 2023 - Present\n     - Responsibilities: Worked as a program assistant in Sustainable & Responsible Business Training, participated in a research proposal, calculated budget, and collected data for a poverty research report based on energy prices.\n\n   - **Myanmar Youth Initiative, Program Officer:**\n     - Location: Yangon, Myanmar\n     - Duration: January 2023 - Present\n     - Responsibilities: Coordinated and evaluated participants of the Financial Literacy and Business Leadership Training for women, served as a program coordinator for Career Readiness Program (Phase-2), and facilitated productive meetings between mentors and program participants.\n\n   - **Hana Microfinance, Data Analyst Intern:**\n     - Location: Yangon, Myanmar\n     - Duration: August 2022 - February 2023\n     - Responsibilities: Prepared courses for data literacy training, conducted research to streamline team processes, implemented a Python program for feasibility studies, performed proof-of-concept assessments, and developed dynamic dashboards from company’s internal website.\n\n3. **Other Relevant Information:**\n   - Demonstrated leadership skills as one of the team leaders in the classroom every school year during high school.\n   - Actively engaged in various roles including volunteer work, program coordination, and data analysis.\n   - Possesses strong skills in data analysis, research, program coordination, and training.\n   - Experienced with innovative methodologies to improve efficiency and streamline processes."
          },
          "metadata": {}
        }
      ]
    },
    {
      "cell_type": "code",
      "source": [],
      "metadata": {
        "id": "q_RpG_RTLuPI"
      },
      "execution_count": 7,
      "outputs": []
    }
  ]
}